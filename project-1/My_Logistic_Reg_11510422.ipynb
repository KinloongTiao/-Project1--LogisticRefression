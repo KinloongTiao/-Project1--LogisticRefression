{
 "cells": [
  {
   "cell_type": "markdown",
   "metadata": {},
   "source": [
    "## Maximum likelihood approach for logistic regression"
   ]
  },
  {
   "cell_type": "markdown",
   "metadata": {},
   "source": [
    "$Author: Jaylen\\; Diao\\;刁金龙 \\quad Stu No: 11510422  \\quad   Date: 2019/04/01  $"
   ]
  },
  {
   "cell_type": "markdown",
   "metadata": {},
   "source": [
    "### Introduction"
   ]
  },
  {
   "cell_type": "markdown",
   "metadata": {},
   "source": [
    "Consider the logistic regression for two-class problemp: Assuming that  \n",
    "\n",
    "$\n",
    "\\qquad {\\bf w} = (w_0,w_1,...,w_d )^T ,\n",
    "$\n",
    "\n",
    "and x includes the constant 1 in its first component\n",
    "\n",
    "\n",
    "$ \\qquad\n",
    "Pr(y=1|{\\bf X}={\\bf x}) = \\frac{e^{({\\bf w}^{T}x)}}{1+e^{({\\bf w}^{T}x)}}\n",
    "$;\n",
    "\n",
    "$ \\qquad\n",
    "Pr(y=0|{\\bf X}={\\bf x}) = \\frac{1}{1+e^{({\\bf w}^{T}x)}}.\n",
    "$\n",
    "\n",
    "By a logit transformation, $ \\log[\\frac{p}{1− p}]$, we recover a linear regression model:\n",
    "\n",
    "$ \\qquad\n",
    "\\log \\frac{Pr(y=1|{\\bf X}={\\bf x})}{Pr(y=0|{\\bf X}={\\bf x})} = {\\bf w}^{T}x\n",
    "$\n",
    "\n",
    "The decision boundary is the set of points for which the above quantity is zero, and this\n",
    "is a hyperplane defined by $ {\\bf w}^{T}x = 0.$"
   ]
  },
  {
   "cell_type": "markdown",
   "metadata": {},
   "source": [
    "### Sigmoid Function\n",
    "\n",
    "A sigmoid function is a mathematical function having a characteristic \"S\"-shaped curve or sigmoid curve. Often, sigmoid function refers to the special case of the logistic function shown in the first figure and defined by the formula\n",
    "\n",
    "$ \\qquad\n",
    "\\sigma (a) = \\frac{1}{1+e^{(-a)}}\n",
    "$\n",
    "\n",
    "In general, a sigmoid function is monotonic, and has a first derivative which is bell shaped. A sigmoid function is constrained by 0 and 1 as ${\\displaystyle x\\rightarrow \\pm \\infty }$.\n",
    "\n",
    "\n"
   ]
  },
  {
   "cell_type": "code",
   "execution_count": 13,
   "metadata": {},
   "outputs": [
    {
     "data": {
      "image/png": "[encoded data removed]",
      "text/plain": [
       "<Figure size 432x288 with 1 Axes>"
      ]
     },
     "metadata": {
      "needs_background": "light"
     },
     "output_type": "display_data"
    }
   ],
   "source": [
    "import numpy as np\n",
    "import matplotlib.pyplot as plt\n",
    " \n",
    "def sigmoid(x):\n",
    "    # 直接返回sigmoid函数\n",
    "    return 1. / (1. + np.exp(-x))\n",
    " \n",
    "def plot_sigmoid():\n",
    "    # param:起点，终点，间距\n",
    "    x = np.arange(-8, 8, 0.2)\n",
    "    y = sigmoid(x)\n",
    "    \n",
    "    plt.vlines(0, 0, 0.5, colors = \"m\", linestyles = \"dashed\")\n",
    "    plt.hlines(0.5, -8, 0, colors = \"m\", linestyles = \"dashed\")\n",
    "    plt.hlines(0, -8, 8, colors = \"g\", linestyles = \"dashed\")\n",
    "    plt.hlines(1, -8, 8, colors = \"g\", linestyles = \"dashed\")\n",
    "\n",
    "    plt.plot(x, y)\n",
    "    plt.show()\n",
    "    \n",
    "%matplotlib inline\n",
    "plot_sigmoid()"
   ]
  },
  {
   "cell_type": "markdown",
   "metadata": {},
   "source": [
    "\n",
    "### Probility Distribution \n",
    "\n",
    "Remember that we have used the maximum likelihood approach to interpret the linear\n",
    "regression. Now we apply the same method to two-class logistic regression. \n",
    "\n",
    "Given $\\Bbb D = (({\\bf x}_1,y_1),({\\bf x}_2,y_2),...,({\\bf x}_n,y_b)), {\\bf x}_i \\in {\\Bbb R}^d, y \\in \\lbrace0,1\\rbrace$\n",
    "\n",
    "$ \\qquad\n",
    "y_i \\sim Bernouli(\\sigma({\\bf w}^{T}x)))\n",
    "$\n",
    "\n",
    "For convenience, we write this distribution as \n",
    "  \n",
    "$\n",
    "\\qquad \\alpha_i = \\sigma({\\bf w}^T {\\bf x_i}) = p_{1}({\\bf x_i};{\\bf w}) = 1- p_{0}({\\bf x_i};{\\bf w})\n",
    "$\n"
   ]
  },
  {
   "cell_type": "markdown",
   "metadata": {},
   "source": [
    "${Compute \\; \\alpha \\;Matrix \\\\\n",
    "输入参数w是d*1列向量，xdata是n*d矩阵} $ "
   ]
  },
  {
   "cell_type": "code",
   "execution_count": 109,
   "metadata": {},
   "outputs": [
    {
     "name": "stdout",
     "output_type": "stream",
     "text": [
      "w = \n",
      " [[0.1]\n",
      " [0.2]\n",
      " [0.2]]\n",
      "data = \n",
      " [[1 2 3]\n",
      " [2 2 1]\n",
      " [1 3 1]]\n",
      "y = \n",
      " [[1]\n",
      " [0]\n",
      " [1]]\n"
     ]
    }
   ],
   "source": [
    "# 初始化一个样例\n",
    "w = np.array([0.1,0.2,0.2])\n",
    "w = np.mat(w)\n",
    "w = np.transpose(w)\n",
    "data = np.array([[1,2,3],[2,2,1],[1,3,1]])\n",
    "data = np.mat(data)\n",
    "y = np.array([1,0,1])\n",
    "y = np.mat(y)\n",
    "y = np.transpose(y)\n",
    "print(\"w = \\n\",w)\n",
    "print(\"data = \\n\", data)\n",
    "print(\"y = \\n\",y)"
   ]
  },
  {
   "cell_type": "code",
   "execution_count": 110,
   "metadata": {},
   "outputs": [
    {
     "data": {
      "text/plain": [
       "matrix([[0.75026011],\n",
       "        [0.68997448],\n",
       "        [0.7109495 ]])"
      ]
     },
     "execution_count": 110,
     "metadata": {},
     "output_type": "execute_result"
    }
   ],
   "source": [
    "from numpy import mat\n",
    "def getAlphaMatrix(w,xdata):\n",
    "    \n",
    "    wT_x = np.dot(np.transpose(w),np.transpose(xdata))\n",
    "\n",
    "    return np.exp(np.transpose(wT_x))/(1+np.exp(np.transpose(wT_x)))\n",
    "\n",
    "getAlphaMatrix(w,data)\n"
   ]
  },
  {
   "cell_type": "markdown",
   "metadata": {},
   "source": [
    "### Likelihood function\n",
    "\n",
    "\\begin{equation}\n",
    "{\\bf w_{MLE}} \\in \\underbrace{argmax}_{\\bf w} \\;\\; P({\\Bbb D}|{\\bf w})\n",
    "\\end{equation}\n",
    "\n",
    "\n",
    "Denote the probability $ P r (y = k|{\\bf X} = {\\bf x}) = p_k ({\\bf x};{\\bf w}), k = $ 0 or 1. The likelihood function is defined by\n",
    "\\begin{equation}\n",
    "L({\\bf w})=\\prod_{i=1}^n p_{y_i}({\\bf x_i};{\\bf w}) = \\prod_{i=1}^n \\alpha_i^{y_i}(1-\\alpha_i)^{1-y_i}\n",
    "\\end{equation}\n",
    "\n",
    "where $y_i$ is the label of the i-th sample $x_i$. The log-likelihood can be reformulated as\n",
    "\\begin{align}\n",
    "l({\\bf w})&=\\sum_{i=1}^n log \\; p_{y_i}({\\bf x_i};{\\bf w}) \\\\\n",
    "&= \\sum_{i=1}^n y_i log \\; \\alpha_i + (1-y_i)log(1-\\alpha_i) \\\\\n",
    "&= \\sum_{i=1}^n y_i \\left({\\bf w}^{T} {\\bf x_i} - log(1+e^{{\\bf w}^T {\\bf x_i}})\\right)+ (1-y_i)\\left(-log(1+e^{{\\bf w}^T {\\bf x_i}})\\right) \\\\\n",
    "&= \\sum_{i=1}^n \\lbrace y_i {\\bf w}^T {\\bf x_i} - log(1+e^{{\\bf w}^T {\\bf x_i}}) \\rbrace\n",
    "\\end{align}"
   ]
  },
  {
   "cell_type": "markdown",
   "metadata": {},
   "source": [
    "### Score equation\n",
    "Firstly, we can do some transformation for the coming computation.\n",
    "\\begin{equation}\n",
    "\\frac{\\partial}{\\partial w_j}log(\\alpha) = \\frac{\\partial}{\\partial w_j} \\sigma({\\bf w}^T {\\bf x}) = \\frac {e^{{\\bf w}^{T}{\\bf x}}\\;{x_j}} {1+e^{{\\bf w}^T {\\bf x}}} = x_j \\; (1-\\alpha)\n",
    "\\end{equation}\n",
    "\n",
    "Similarly,  we have\n",
    "\n",
    "\\begin{equation}\n",
    "\\frac{\\partial}{\\partial w_j}log(1-\\alpha) = \\cdots = -x_j + x_j \\; (1-\\alpha) = -x_j\\alpha\n",
    "\\end{equation}\n",
    "\n",
    "Hence, \n",
    "\n",
    "\\begin{align}\n",
    "\\frac{\\partial}{\\partial w_j} l({\\bf w}) = 0 &= \\sum_{i=1}^n y_i x_{ij} (1-\\alpha_i) - (1-y_i)(\\alpha_i x_{ij}) \\\\\n",
    "&= \\sum_{i=1}^n y_i x_{ij} - \\alpha_i x_{ij} \\\\\n",
    "&= \\sum_{i=1}^n (y_i - \\alpha_i)x_{ij} \\\\\n",
    "&= \\sum_{i=1}^n x_{ij}(y_i - p_{y_i}({\\bf x_i};{\\bf w}))\n",
    "\\end{align} \n",
    "\n",
    "Where ${\\bf x_i} = (x_{i1},x_{i2},\\cdots, x_{id})$, d represents the dimention of the ${\\bf x}$.\n",
    "\n",
    "\n"
   ]
  },
  {
   "cell_type": "markdown",
   "metadata": {},
   "source": [
    "### Gradient of w\n",
    "$ \\qquad \\qquad \\qquad \\qquad \\qquad\n",
    "{\\Bbb A}= \\left\\{ \\begin{matrix} x_{11} & x_{12} & \\cdots & x_{1d}\\\\ x_{21} & x_{22} & \\cdots & x_{2d}\\\\ \\vdots & \\vdots & \\ddots & \\vdots \\\\ x_{n1} & x_{n2} & \\cdots & x_{nd} \\end{matrix} \\right\\}\n",
    "$\n",
    "\n",
    "Fix j, we have\n",
    "\n",
    "\\begin{equation}\n",
    "\\frac{\\partial}{\\partial w_j} l({\\bf w})  =  \\sum_{i=1}^n (y_i - \\alpha_i)x_{ij} \n",
    "\\end{equation} \n",
    "\n",
    "Write it in a metrix way, we obtain \n",
    "$\\quad\n",
    "g = \\nabla_{\\bf w} l = {\\Bbb A}^{T}(\\alpha-{\\bf y})\n",
    "$\n"
   ]
  },
  {
   "cell_type": "markdown",
   "metadata": {},
   "source": [
    "${Compute \\; \\nabla_{\\bf w} \\;Vector \\\\\n",
    "输入参数w是d*1列向量，xdata是n*d矩阵,y是d*1的列向量} $ "
   ]
  },
  {
   "cell_type": "code",
   "execution_count": 111,
   "metadata": {},
   "outputs": [
    {
     "data": {
      "text/plain": [
       "matrix([[ 0.84115857],\n",
       "        [ 0.01331768],\n",
       "        [-0.3482957 ]])"
      ]
     },
     "execution_count": 111,
     "metadata": {},
     "output_type": "execute_result"
    }
   ],
   "source": [
    "def getGradient(w,xdata,y):\n",
    "    \n",
    "    alpha_mat = getAlphaMatrix(w,xdata)\n",
    "#     print(\"alpha_mat = \",alpha_mat)\n",
    "    return np.dot(np.transpose(xdata),(alpha_mat-y))\n",
    "\n",
    "getGradient(w,data,y)"
   ]
  },
  {
   "cell_type": "markdown",
   "metadata": {},
   "source": [
    "${Compute \\; B_{\\bf w} \\;Matrix \\\\\n",
    "输入参数w是d*1列向量，xdata是n*d矩阵} $ "
   ]
  },
  {
   "cell_type": "code",
   "execution_count": 112,
   "metadata": {},
   "outputs": [
    {
     "data": {
      "text/plain": [
       "array([[0.18736988, 0.        , 0.        ],\n",
       "       [0.        , 0.2139097 , 0.        ],\n",
       "       [0.        , 0.        , 0.20550031]])"
      ]
     },
     "execution_count": 112,
     "metadata": {},
     "output_type": "execute_result"
    }
   ],
   "source": [
    "def getWeightedMatrix(w,xdata):\n",
    "    \n",
    "    alpha_mat = getAlphaMatrix(w,xdata)\n",
    "    # print(\"alpha_mat = \",alpha_mat)\n",
    "    degree = len(xdata)\n",
    "    # print(\"degree = \",degree)\n",
    "    B = np.zeros((degree,degree))\n",
    "    for i in range(degree):\n",
    "        B[i][i] = float(alpha_mat[i][0])*(1-float(alpha_mat[i][0]))\n",
    "    return B\n",
    "\n",
    "getWeightedMatrix(w,data)"
   ]
  },
  {
   "cell_type": "markdown",
   "metadata": {},
   "source": [
    "###  Hessian matrix of $l({\\bf w})$\n",
    "\n",
    "From the gradient of ${\\bf w}$, let us take one more derivative of this gradient, we get\n",
    "\\begin{equation}\n",
    "\\frac{\\partial}{\\partial w_j\\partial w_k} l({\\bf w})  = - \\sum_{i=1}^n x_{ij} \\frac{\\partial}{\\partial w_k} \\alpha_i\n",
    "\\end{equation} \n",
    "\n",
    "\n",
    "In order to figure out the derivative, we consider\n",
    "\n",
    "\\begin{align}\n",
    "{\\partial log\\alpha} &= \\frac{\\partial \\alpha}{\\alpha} \\\\\n",
    "{\\partial \\alpha} &= \\alpha {\\partial log\\alpha} \\\\\n",
    "&= \\alpha x_j(1-\\alpha)\n",
    "\\end{align}\n",
    "where $j = \\lbrace 1,2,3,\\cdots,n \\rbrace $.\n",
    "\n",
    "\\begin{equation}\n",
    "\\implies \\frac{\\partial}{\\partial w_k} \\alpha_i = x_{ik}\\alpha_i(1-\\alpha_i)\n",
    "\\end{equation}\n",
    "\n",
    "\\begin{align}\n",
    "\\implies \\frac{\\partial}{\\partial w_j\\partial w_k} l({\\bf w}) &= - \\sum_{i=1}^n x_{ij} \\frac{\\partial}{\\partial w_k} \\alpha_i \\\\\n",
    "&= - \\sum_{i=1}^n  x_{ij}x_{ik}\\alpha_i(1-\\alpha_i) \\\\\n",
    "&= \\sum_{i=1}^{n} x_ix_i^{T} p_{y_i}({\\bf x_i};{\\bf w})(1-p_{y_i}({\\bf x_i};{\\bf w}))\\\\\n",
    "\\implies &=- {\\Bbb Z_j}^{T}{\\Bbb B}{\\Bbb Z_k}\n",
    "\\end{align}\n",
    "\\\\\n",
    "  \n",
    "Where ${\\Bbb Z_j} = (x_{1j},x_{2j},\\cdots,x_{nj})^{T},\\; {\\Bbb B} =  \\left\\{ \\begin{matrix} \\alpha_1(1-\\alpha_1) & 0 & \\cdots & 0\\\\ 0 & \\alpha_2(1-\\alpha_2) & \\cdots & 0\\\\ \\vdots & \\vdots & \\ddots & \\vdots \\\\ 0 & 0 & \\cdots & \\alpha_n(1-\\alpha_n) \\end{matrix} \\right\\}$ \n",
    "\n",
    "Therefore, the Hessian matrix should be\n",
    "\n",
    "\\begin{align}\n",
    "{\\Bbb H} = \\nabla_{\\bf w}^{2} l &= {\\Bbb A}^{T}{\\Bbb B}{\\Bbb A} \\\\\n",
    "\\end{align}\n",
    "\n",
    "\n",
    "\n",
    "\n",
    "\n",
    "\n",
    "\n",
    "\n",
    "\n",
    "\n"
   ]
  },
  {
   "cell_type": "markdown",
   "metadata": {},
   "source": [
    "${Compute \\; Hessian \\;Matrix \\\\\n",
    "输入参数w是d*1列向量，xdata是n*d矩阵} $ "
   ]
  },
  {
   "cell_type": "code",
   "execution_count": 113,
   "metadata": {},
   "outputs": [
    {
     "data": {
      "text/plain": [
       "matrix([[1.24850897, 1.84687947, 1.19542934],\n",
       "        [1.84687947, 3.45462107, 2.16853959],\n",
       "        [1.19542934, 2.16853959, 2.10573892]])"
      ]
     },
     "execution_count": 113,
     "metadata": {},
     "output_type": "execute_result"
    }
   ],
   "source": [
    "def getHessianMatrix(w,xdata):\n",
    "    alpha_mat = getAlphaMatrix(w,xdata)\n",
    "    B = getWeightedMatrix(w,xdata)\n",
    "    return np.dot(np.dot(np.transpose(xdata),B),xdata)\n",
    "\n",
    "getHessianMatrix(w,data)\n"
   ]
  },
  {
   "cell_type": "markdown",
   "metadata": {},
   "source": [
    "### Newton-Raphson method approach\n",
    "Finally, apply newton method to solve the parameters ${\\bf w}$. There are three steps for solving it.\n",
    "\n",
    "  \n",
    " $(1).\\;Initialize \\;{\\bf w}={\\bf w^{(0)}}$\n",
    "  \n",
    "\n",
    "$(2).\\;At\\; the\\; k-th \\;step, {\\bf w}^{(k)} = {\\bf w}^{(k-1)} - {\\Bbb H}^{-1}\\lfloor_{{\\bf w}^{(k-1)}}\\quad·\\quad g$\n",
    "\n",
    "  \n",
    "$(3).\\; Once \\;|{\\bf w}^{k} - {\\bf w}^{k-1}|<\\epsilon, stop;\\; otherwise,\\; go\\; back\\; to \\;step (2).$"
   ]
  },
  {
   "cell_type": "code",
   "execution_count": 138,
   "metadata": {},
   "outputs": [],
   "source": [
    "def newtonMethod(n, w, xdata, y):\n",
    "\n",
    "    time = n\n",
    "    g = getGradient(w ,xdata ,y)\n",
    "    H = getHessianMatrix(w ,xdata)\n",
    "#     print(\"第{}次迭代，所得矩阵如下：\".format(time))\n",
    "#     print('g = ', g)\n",
    "#     print('H = ', H)\n",
    "#     print('w = ', w)\n",
    "\n",
    "    Next_w = w - np.dot(np.linalg.inv(H) ,g)\n",
    "    print(\"\\n第{}次迭代: \\n所得参数 w = {}\\n|Next_w - w| = {}.\".format(time,w.T,str(np.linalg.norm(w - Next_w))))\n",
    "\n",
    "    if np.linalg.norm(w - Next_w) < 1e-06:\n",
    "        print('\\n达到精度要求 |Next_w - w| = {} <1e-06 \\n '.format(str(np.linalg.norm(w - Next_w))))\n",
    "        '''设置迭代跳出条件'''\n",
    "        return Next_w\n",
    "    else:\n",
    "        return newtonMethod(n + 1, Next_w ,xdata ,y)\n",
    "\n",
    "    \n",
    "# newtonMethod(1, w, data, y)\n"
   ]
  },
  {
   "cell_type": "markdown",
   "metadata": {},
   "source": [
    "## ${\\star}{\\star}{\\star}\\quad$ 算法检验 $\\quad{\\star}{\\star}{\\star}$\n",
    "Apply the program developed in the previous step to play with the South African\n",
    "Heart Disease data: https://sci2s.ugr.es/keel/dataset.php?cod=184. \n",
    "  \n",
    "We will use the copy of the data set already partitioned by means of 5-folds cross validation.\n",
    "This set of data, named “saheart-5-fold”, is also provided in the package of this\n",
    "project. Note that there are five groups of data, each of which consists of a training\n",
    "set (e.g. “saheart-5-1tra.dat”) and a test set (e.g. “saheart-5-1tst.dat”). Train the model by the training set in each group and test the model by the test set in the\n",
    "same group. Evaluate your results in terms of accuracy. (Hint: you have to do\n",
    "one-hot encoding for the non-numeric attributes)\n"
   ]
  },
  {
   "cell_type": "code",
   "execution_count": 115,
   "metadata": {},
   "outputs": [],
   "source": [
    "import numpy as np\n",
    "import pandas as pd\n",
    "import re\n",
    "import os.path"
   ]
  },
  {
   "cell_type": "code",
   "execution_count": 117,
   "metadata": {},
   "outputs": [],
   "source": [
    "\n",
    "def read_dat(filename):\n",
    "\n",
    "    filename = filename\n",
    "    con_new = []\n",
    "    with open(filename,'r' ) as f:\n",
    "        contents = f.readlines()\n",
    "        contents = list(contents)\n",
    "        con_new.append([])  # 第一行列名\n",
    "\n",
    "        for i in contents[0:14]:\n",
    "            try:\n",
    "                attribute = re.findall(r'@attribute (.+?) ', i)[0]\n",
    "                con_new[0].append(attribute)\n",
    "            except:\n",
    "                pass\n",
    "\n",
    "        del contents[:14]\n",
    "\n",
    "        for i,con in enumerate(contents):\n",
    "            tmp = con.strip()\n",
    "            tmp = tmp.split(',')\n",
    "            con_new.append([])\n",
    "            con_new[i+1].append(int(tmp[0]))\n",
    "            con_new[i+1].append(float(tmp[1]))\n",
    "            con_new[i+1].append(float(tmp[2]))\n",
    "            con_new[i+1].append(float(tmp[3]))\n",
    "            con_new[i+1].append(tmp[4])\n",
    "            con_new[i+1].append(int(tmp[5]))\n",
    "            con_new[i+1].append(float(tmp[6]))\n",
    "            con_new[i+1].append(float(tmp[7]))\n",
    "            con_new[i+1].append(int(tmp[8]))\n",
    "            con_new[i+1].append(int(tmp[9]))\n",
    "\n",
    "    df = pd.DataFrame(con_new[1:],columns=con_new[0])\n",
    "\n",
    "    return df\n",
    "\n",
    "def getXYtrain_test(df_train,df_test):\n",
    "\n",
    "    xtrain = pd.get_dummies(df_train.loc[:,'Sbp':'Age'], prefix=['Famhist'])\n",
    "    xtrain = np.array(xtrain)\n",
    "    ytrain = np.array(df_train.loc[:,'Chd'])\n",
    "\n",
    "    xtest = pd.get_dummies(df_test.loc[:,'Sbp':'Age'], prefix=['Famhist'])\n",
    "    xtest = np.array(xtest)\n",
    "    ytest = np.array(df_test.loc[:,'Chd'])\n",
    "\n",
    "    return xtrain,ytrain,xtest,ytest\n"
   ]
  },
  {
   "cell_type": "code",
   "execution_count": 139,
   "metadata": {},
   "outputs": [
    {
     "name": "stdout",
     "output_type": "stream",
     "text": [
      "\n",
      "第1次迭代: \n",
      "所得参数 w = [[0 0 0 0 0 0 0 0 0 0]]\n",
      "|Next_w - w| = 5.05990928344392.\n",
      "\n",
      "第2次迭代: \n",
      "所得参数 w = [[ 0.00519231  0.08222348  0.12660645  0.00983893  0.02371088 -0.04067755\n",
      "  -0.00416106  0.02377418 -3.92038342 -3.19492766]]\n",
      "|Next_w - w| = 2.0890090564818733.\n",
      "\n",
      "第3次迭代: \n",
      "所得参数 w = [[ 6.56226326e-03  9.71951372e-02  1.54683043e-01  1.87747702e-02\n",
      "   3.54037491e-02 -5.74322530e-02 -4.32493635e-03  3.56976702e-02\n",
      "  -5.48990242e+00 -4.57293896e+00]]\n",
      "|Next_w - w| = 0.5287401250365746.\n",
      "\n",
      "第4次迭代: \n",
      "所得参数 w = [[ 6.74586466e-03  9.96318295e-02  1.59298135e-01  2.04295943e-02\n",
      "   3.80947591e-02 -5.93631426e-02 -4.19598825e-03  3.89143867e-02\n",
      "  -5.88104957e+00 -4.92863360e+00]]\n",
      "|Next_w - w| = 0.02452977155602159.\n",
      "\n",
      "第5次迭代: \n",
      "所得参数 w = [[ 6.75035175e-03  9.97253195e-02  1.59469218e-01  2.04816372e-02\n",
      "   3.82045825e-02 -5.93831289e-02 -4.18678785e-03  3.90724239e-02\n",
      "  -5.89905749e+00 -4.94528733e+00]]\n",
      "|Next_w - w| = 4.758758989000873e-05.\n",
      "\n",
      "第6次迭代: \n",
      "所得参数 w = [[ 6.75035529e-03  9.97254809e-02  1.59469518e-01  2.04817163e-02\n",
      "   3.82047746e-02 -5.93831016e-02 -4.18676610e-03  3.90727468e-02\n",
      "  -5.89909230e+00 -4.94531977e+00]]\n",
      "|Next_w - w| = 1.7997039680636089e-10.\n",
      "\n",
      "达到精度要求 |Next_w - w| = 1.7997039680636089e-10 <1e-06 \n",
      " \n",
      "[[ 6.75035529e-03  9.97254809e-02  1.59469518e-01  2.04817163e-02\n",
      "   3.82047746e-02 -5.93831016e-02 -4.18676610e-03  3.90727468e-02\n",
      "  -5.89909230e+00 -4.94531977e+00]]\n"
     ]
    }
   ],
   "source": [
    "# 主函数测试\n",
    "root_path = 'C:/Users/49732/Desktop/BigDataProjects/project-1/saheart-5-fold/'\n",
    "train_name = 'saheart-5-' + str(1) + 'tra.dat'\n",
    "test_name = 'saheart-5-' + str(1) + 'tst.dat'\n",
    "train_file_path = os.path.join(root_path,train_name)\n",
    "test_file_path = os.path.join(root_path,test_name)\n",
    "\n",
    "train_df = read_dat(train_file_path)\n",
    "test_df = read_dat(test_file_path)\n",
    "\n",
    "xtrain, ytrain, xtest, ytest = getXYtrain_test(train_df,test_df)\n",
    "\n",
    "w = np.array([0 ,0,0,0 ,0 ,0,0 ,0 ,0,0])\n",
    "w = np.mat(w)\n",
    "w = np.transpose(w)\n",
    "# print(w)\n",
    "data = np.mat(xtrain)\n",
    "y = np.mat(ytrain)\n",
    "y = np.transpose(y)\n",
    "# print(\"w = \\n\" ,w)\n",
    "# print(\"data = \\n\", data)\n",
    "# print(\"y = \\n\" ,y)\n",
    "final_w = newtonMethod(1, w, data, y)\n",
    "print(final_w.T)"
   ]
  },
  {
   "cell_type": "markdown",
   "metadata": {},
   "source": [
    "### 根据 final_w 计算出来的 $y_i$ = 1的概率 $\\quad{\\star}{\\star}{\\star}$\n",
    "$Pr(y=1|{\\bf X}={\\bf x}) = \\frac{e^{({\\bf w}_{final}^{'}\\;\\; x)}}{1+e^{({\\bf w}_{final}^{'}\\;\\; x)}}$"
   ]
  },
  {
   "cell_type": "code",
   "execution_count": 166,
   "metadata": {},
   "outputs": [
    {
     "name": "stdout",
     "output_type": "stream",
     "text": [
      "[0.7372125832925219, 0.35200585532216383, 0.2542132496512069, 0.648398787514912, 0.7242045343126333, 0.579594786858259, 0.2642487293904019, 0.6750559294160994, 0.13353252621109532, 0.5888423990217194]\n"
     ]
    }
   ],
   "source": [
    "predict = np.dot(final_w.T,np.transpose(np.mat(xtrain)))\n",
    "probility = (np.exp(predict.T)/(1+np.exp(predict.T))).T.tolist()[0]\n",
    "print(probility[:10]) "
   ]
  },
  {
   "cell_type": "markdown",
   "metadata": {},
   "source": [
    "### 训练集判断模型准确度 $\\quad{\\star}{\\star}{\\star}$\n",
    "$模型准确度\\;Rate = \\frac{预测与真实相同的个数}{总样本量}$"
   ]
  },
  {
   "cell_type": "code",
   "execution_count": 167,
   "metadata": {},
   "outputs": [
    {
     "name": "stdout",
     "output_type": "stream",
     "text": [
      "模型训练集准确度 Rate =  0.7567567567567568\n"
     ]
    }
   ],
   "source": [
    "equal = 0 # 预测的分类与真实值相同的个数\n",
    "not_equal = 0 # 不同的个数\n",
    "for i,y in enumerate(list(ytrain)):\n",
    "    # 设定概率大于0.5，就分类为1，否则为0\n",
    "    if probility[i] >= 0.5:\n",
    "        c = 1\n",
    "    else:\n",
    "        c = 0\n",
    "    if c == y:\n",
    "        equal += 1\n",
    "    else:\n",
    "        not_equal += 1\n",
    "print(\"模型训练集准确度 Rate = \",equal/(equal+not_equal))"
   ]
  },
  {
   "cell_type": "markdown",
   "metadata": {},
   "source": [
    "### 测试集判断模型准确度 $\\quad{\\star}{\\star}{\\star}$"
   ]
  },
  {
   "cell_type": "code",
   "execution_count": 168,
   "metadata": {},
   "outputs": [
    {
     "name": "stdout",
     "output_type": "stream",
     "text": [
      "测试集数据量： 92\n",
      "模型测试集准确度 Rate =  0.6847826086956522\n"
     ]
    }
   ],
   "source": [
    "# data = np.mat(xtest)\n",
    "# y = np.mat(ytest)\n",
    "# y = np.transpose(y)\n",
    "predict = np.dot(final_w.T,np.transpose(np.mat(xtest)))\n",
    "probility = (np.exp(predict.T)/(1+np.exp(predict.T))).T.tolist()[0]\n",
    "print(\"测试集数据量：\",len(probility)) \n",
    "\n",
    "equal = 0 # 预测的分类与真实值相同的个数\n",
    "not_equal = 0 # 不同的个数\n",
    "for i,y in enumerate(list(ytest)):\n",
    "    # 设定概率大于0.5，就分类为1，否则为0\n",
    "    if probility[i] >= 0.5:\n",
    "        c = 1\n",
    "    else:\n",
    "        c = 0\n",
    "    if c == y:\n",
    "        equal += 1\n",
    "    else:\n",
    "        not_equal += 1\n",
    "print(\"模型测试集准确度 Rate = \",equal/(equal+not_equal))"
   ]
  },
  {
   "cell_type": "markdown",
   "metadata": {},
   "source": [
    "### 与 sklearn 自带的 LogisticRegression 包算法作对比 $\\quad{\\star}{\\star}{\\star}$\n"
   ]
  },
  {
   "cell_type": "code",
   "execution_count": 153,
   "metadata": {},
   "outputs": [],
   "source": [
    "from sklearn import metrics\n",
    "from sklearn.linear_model import LogisticRegression\n",
    "from sklearn.metrics import accuracy_score\n",
    "import warnings\n",
    "warnings.filterwarnings(\"ignore\")"
   ]
  },
  {
   "cell_type": "code",
   "execution_count": 154,
   "metadata": {},
   "outputs": [
    {
     "name": "stdout",
     "output_type": "stream",
     "text": [
      "模型准确度 Rate =  0.7371273712737128\n"
     ]
    }
   ],
   "source": [
    "clf = LogisticRegression()\n",
    "clf.fit(xtrain, ytrain)\n",
    "print(\"模型准确度 Rate = \",clf.score(xtrain, ytrain))"
   ]
  },
  {
   "cell_type": "code",
   "execution_count": 155,
   "metadata": {},
   "outputs": [
    {
     "name": "stdout",
     "output_type": "stream",
     "text": [
      "测试集混淆矩阵为：\n",
      " [[53  8]\n",
      " [18 14]]\n",
      "\n",
      "测试集准确度 Rate =  0.7204301075268817\n"
     ]
    }
   ],
   "source": [
    "test_predict = clf.predict(xtest)\n",
    "\n",
    "conf_matrix = metrics.confusion_matrix(ytest, test_predict)\n",
    "df_metrix = np.array(conf_matrix)\n",
    "conf_matrix = np.round(df_metrix, 2)\n",
    "print(\"测试集混淆矩阵为：\\n\",conf_matrix)\n",
    "\n",
    "true_rate = accuracy_score(ytest, test_predict)\n",
    "print(\"\\n测试集准确度 Rate = \",true_rate)"
   ]
  },
  {
   "cell_type": "markdown",
   "metadata": {},
   "source": [
    "#### Sklearn LogisticRegression在五个训练集和测试集上的表现"
   ]
  },
  {
   "cell_type": "code",
   "execution_count": 169,
   "metadata": {},
   "outputs": [
    {
     "name": "stdout",
     "output_type": "stream",
     "text": [
      "Sklearn LogisticRegression在五个训练集和测试集上的表现:\n",
      "\n",
      "训练样本集1准确度为：0.737.\n",
      "训练样本集2准确度为：0.724.\n",
      "训练样本集3准确度为：0.735.\n",
      "训练样本集4准确度为：0.73.\n",
      "训练样本集5准确度为：0.757.\n"
     ]
    }
   ],
   "source": [
    "print(\"Sklearn LogisticRegression在五个训练集和测试集上的表现:\\n\")\n",
    "for i in range(5):\n",
    "\n",
    "    train_name = 'saheart-5-' + str(i+1) + 'tra.dat'\n",
    "    test_name = 'saheart-5-' + str(i+1) + 'tst.dat'\n",
    "    train_file_path = os.path.join(root_path,train_name)\n",
    "    test_file_path = os.path.join(root_path,test_name)\n",
    "    train_df = read_dat(train_file_path)\n",
    "    test_df = read_dat(test_file_path)\n",
    "    xtrain, ytrain, xtest, ytest = getXYtrain_test(train_df,test_df)\n",
    "    clf = LogisticRegression()\n",
    "    clf.fit(xtrain, ytrain)\n",
    "    print('训练样本集{}准确度为：{}.'.format(i+1,round(clf.score(xtrain, ytrain),3)))\n",
    "#     print('测试样本集{}准确度为：{}.'.format(i+1,round(clf.score(xtest, ytest),3)))\n"
   ]
  },
  {
   "cell_type": "markdown",
   "metadata": {},
   "source": [
    "####  我们开发的算法在五个数据集上的表现：\n",
    "训练样本集1准确度为：0.7398373983739838    \n",
    "训练样本集2准确度为：0.7506775067750677  \n",
    "训练样本集3准确度为：0.7513513513513513   \n",
    "训练样本集4准确度为：0.7405405405405405  \n",
    "训练样本集5准确度为：0.7567567567567568   "
   ]
  },
  {
   "cell_type": "markdown",
   "metadata": {},
   "source": [
    "## ${\\star}{\\star}{\\star}\\quad$由以上结果可以看出，Maximum likelihood approach for logistic regression 与 Sklearn 的效果基本一致，在Pycharm上测试速度，我的算法大概比自带的包速度快4倍，模型精度等各项指标均和自带的包类似 $\\quad{\\star}{\\star}{\\star}$"
   ]
  },
  {
   "cell_type": "markdown",
   "metadata": {},
   "source": [
    "## ${\\star}{\\star}{\\star}\\quad$完结 $\\quad{\\star}{\\star}{\\star}$"
   ]
  }
 ],
 "metadata": {
  "kernelspec": {
   "display_name": "Python 3",
   "language": "python",
   "name": "python3"
  },
  "language_info": {
   "codemirror_mode": {
    "name": "ipython",
    "version": 3
   },
   "file_extension": ".py",
   "mimetype": "text/x-python",
   "name": "python",
   "nbconvert_exporter": "python",
   "pygments_lexer": "ipython3",
   "version": "3.5.6"
  }
 },
 "nbformat": 4,
 "nbformat_minor": 2
}
